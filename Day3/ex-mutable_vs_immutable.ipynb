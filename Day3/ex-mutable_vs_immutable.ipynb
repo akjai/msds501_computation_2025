{
 "cells": [
  {
   "cell_type": "markdown",
   "id": "5872279e-f732-4329-9e84-8ed5595d6ef4",
   "metadata": {},
   "source": [
    "# List vs Tuple\n",
    "- Create a list with 1,2,3 and increase each element by 1.\n",
    "- Create a tuple with 1,2,3 and increase each element by 1.\n",
    "\n",
    "<b> Goal </b> : Let's see whether you can update lists and/or tuples."
   ]
  },
  {
   "cell_type": "code",
   "execution_count": 1,
   "id": "054bd7c9-cb29-49fa-b35e-d98db8cea8a2",
   "metadata": {},
   "outputs": [],
   "source": [
    "list = [1, 2, 3]\n",
    "tuple = (1, 2, 3)"
   ]
  },
  {
   "cell_type": "code",
   "execution_count": 2,
   "id": "125d11fc-8f7d-4388-9593-088ce03f44a2",
   "metadata": {},
   "outputs": [
    {
     "data": {
      "text/plain": [
       "[4, 3, 2]"
      ]
     },
     "execution_count": 2,
     "metadata": {},
     "output_type": "execute_result"
    }
   ],
   "source": [
    "for i in range(len(list)):\n",
    "    list[i] = list[i] + 1\n",
    "list.reverse()\n",
    "list"
   ]
  },
  {
   "cell_type": "code",
   "execution_count": 3,
   "id": "6fa61d60-fccf-403a-9c0c-58b45a998a9c",
   "metadata": {},
   "outputs": [
    {
     "ename": "TypeError",
     "evalue": "'tuple' object does not support item assignment",
     "output_type": "error",
     "traceback": [
      "\u001b[31m---------------------------------------------------------------------------\u001b[39m",
      "\u001b[31mTypeError\u001b[39m                                 Traceback (most recent call last)",
      "\u001b[36mCell\u001b[39m\u001b[36m \u001b[39m\u001b[32mIn[3]\u001b[39m\u001b[32m, line 2\u001b[39m\n\u001b[32m      1\u001b[39m \u001b[38;5;28;01mfor\u001b[39;00m i \u001b[38;5;129;01min\u001b[39;00m \u001b[38;5;28mrange\u001b[39m(\u001b[38;5;28mlen\u001b[39m(\u001b[38;5;28mtuple\u001b[39m)):\n\u001b[32m----> \u001b[39m\u001b[32m2\u001b[39m     \u001b[38;5;28;43mtuple\u001b[39;49m\u001b[43m[\u001b[49m\u001b[43mi\u001b[49m\u001b[43m]\u001b[49m = \u001b[38;5;28mtuple\u001b[39m[i] + \u001b[32m1\u001b[39m\n",
      "\u001b[31mTypeError\u001b[39m: 'tuple' object does not support item assignment"
     ]
    }
   ],
   "source": [
    "for i in range(len(tuple)):\n",
    "    tuple[i] = tuple[i] + 1"
   ]
  }
 ],
 "metadata": {
  "kernelspec": {
   "display_name": "Python 3 (ipykernel)",
   "language": "python",
   "name": "python3"
  },
  "language_info": {
   "codemirror_mode": {
    "name": "ipython",
    "version": 3
   },
   "file_extension": ".py",
   "mimetype": "text/x-python",
   "name": "python",
   "nbconvert_exporter": "python",
   "pygments_lexer": "ipython3",
   "version": "3.13.5"
  }
 },
 "nbformat": 4,
 "nbformat_minor": 5
}
