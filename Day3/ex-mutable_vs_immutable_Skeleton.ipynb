{
 "cells": [
  {
   "attachments": {},
   "cell_type": "markdown",
   "id": "5872279e-f732-4329-9e84-8ed5595d6ef4",
   "metadata": {},
   "source": [
    "# List vs Tuple\n",
    "- Create a list with 1,2,3 and increase each element by 1.\n",
    "- Create a tuple with 1,2,3 and increase each element by 1.\n",
    "\n",
    "<b> Goal </b> : Let's see whether you can update lists and/or tuples."
   ]
  },
  {
   "cell_type": "code",
   "execution_count": 13,
   "id": "054bd7c9-cb29-49fa-b35e-d98db8cea8a2",
   "metadata": {},
   "outputs": [
    {
     "data": {
      "text/plain": [
       "[1, 2, 3, 1, 2, 3]"
      ]
     },
     "execution_count": 13,
     "metadata": {},
     "output_type": "execute_result"
    }
   ],
   "source": [
    "list_1 = [1, 2, 3]\n",
    "list_1 * 2"
   ]
  },
  {
   "cell_type": "code",
   "execution_count": 14,
   "id": "abd0978e",
   "metadata": {},
   "outputs": [
    {
     "ename": "TypeError",
     "evalue": "'tuple' object does not support item assignment",
     "output_type": "error",
     "traceback": [
      "\u001b[31m---------------------------------------------------------------------------\u001b[39m",
      "\u001b[31mTypeError\u001b[39m                                 Traceback (most recent call last)",
      "\u001b[36mCell\u001b[39m\u001b[36m \u001b[39m\u001b[32mIn[14]\u001b[39m\u001b[32m, line 4\u001b[39m\n\u001b[32m      1\u001b[39m tuple_1 = \u001b[32m1\u001b[39m,\u001b[32m2\u001b[39m,\u001b[32m3\u001b[39m\n\u001b[32m      3\u001b[39m \u001b[38;5;28;01mfor\u001b[39;00m n \u001b[38;5;129;01min\u001b[39;00m \u001b[38;5;28mrange\u001b[39m(\u001b[32m0\u001b[39m, \u001b[38;5;28mlen\u001b[39m(tuple_1)):\n\u001b[32m----> \u001b[39m\u001b[32m4\u001b[39m     \u001b[43mtuple_1\u001b[49m\u001b[43m[\u001b[49m\u001b[43mn\u001b[49m\u001b[43m]\u001b[49m += \u001b[32m1\u001b[39m\n",
      "\u001b[31mTypeError\u001b[39m: 'tuple' object does not support item assignment"
     ]
    }
   ],
   "source": [
    "tuple_1 = 1,2,3\n",
    "\n",
    "for n in range(0, len(tuple_1)):\n",
    "    tuple_1[n] += 1"
   ]
  },
  {
   "cell_type": "code",
   "execution_count": 3,
   "id": "c2b66a98",
   "metadata": {},
   "outputs": [
    {
     "data": {
      "text/plain": [
       "['c', 'a', 't']"
      ]
     },
     "execution_count": 3,
     "metadata": {},
     "output_type": "execute_result"
    }
   ],
   "source": [
    "dictionary = {'c': 'M', 'a': 'E', 't': 'W'}\n",
    "input_str = \"cat\"\n",
    "\n",
    "def cipher(input_str, dictionary):\n",
    "    res = \"\"\n",
    "    for i in input_str:\n",
    "        res += dictionary[i]\n",
    "    return res\n",
    "\n",
    "cipher(input_str, dictionary)\n",
    "\n",
    "list(dictionary)"
   ]
  },
  {
   "cell_type": "code",
   "execution_count": null,
   "id": "16359d80",
   "metadata": {},
   "outputs": [],
   "source": []
  }
 ],
 "metadata": {
  "kernelspec": {
   "display_name": "Python 3 (ipykernel)",
   "language": "python",
   "name": "python3"
  },
  "language_info": {
   "codemirror_mode": {
    "name": "ipython",
    "version": 3
   },
   "file_extension": ".py",
   "mimetype": "text/x-python",
   "name": "python",
   "nbconvert_exporter": "python",
   "pygments_lexer": "ipython3",
   "version": "3.13.5"
  }
 },
 "nbformat": 4,
 "nbformat_minor": 5
}
