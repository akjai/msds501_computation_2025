{
 "cells": [
  {
   "attachments": {},
   "cell_type": "markdown",
   "metadata": {},
   "source": [
    "For a string s and an integer k, reverse the first k characters in s for every 2k characters.\n",
    "- Ex. s = \"abcdefg\", k = 2, reverse_str(s,k) should return \"bacdfeg\""
   ]
  },
  {
   "cell_type": "code",
   "execution_count": 15,
   "metadata": {},
   "outputs": [],
   "source": [
    "def reverse_str(s: str, k: int):\n",
    "    buffer = \"\"\n",
    "    for i in range(0, len(s), k):\n",
    "        if (k + i) > (len(s) - 1):\n",
    "            break\n",
    "        buffer = list(s[i:k+i])\n",
    "        reverse_buffer = buffer.reverse()\n",
    "        s = s.replace(str(buffer),str(reverse_buffer))\n",
    "\n",
    "    return s"
   ]
  },
  {
   "cell_type": "code",
   "execution_count": 17,
   "metadata": {},
   "outputs": [
    {
     "data": {
      "text/plain": [
       "False"
      ]
     },
     "execution_count": 17,
     "metadata": {},
     "output_type": "execute_result"
    }
   ],
   "source": [
    "s = \"abcdefg\"\n",
    "k = 2\n",
    "reverse_str(s, k) == \"bacdfeg\""
   ]
  },
  {
   "cell_type": "code",
   "execution_count": 18,
   "metadata": {},
   "outputs": [
    {
     "data": {
      "text/plain": [
       "False"
      ]
     },
     "execution_count": 18,
     "metadata": {},
     "output_type": "execute_result"
    }
   ],
   "source": [
    "s = \"abcd\"\n",
    "k = 3\n",
    "reverse_str(s, k) == \"cbad\""
   ]
  },
  {
   "cell_type": "code",
   "execution_count": 26,
   "metadata": {},
   "outputs": [
    {
     "data": {
      "text/plain": [
       "5"
      ]
     },
     "execution_count": 26,
     "metadata": {},
     "output_type": "execute_result"
    }
   ],
   "source": [
    "#Write a function reverse_even_index(lst) that takes a list and returns a new list containing only the elements at even indices in reverse order.\n",
    "\n",
    "#Example input: [0, 1, 2, 3, 4]\n",
    "#Output: [4, 2, 0]"
   ]
  },
  {
   "cell_type": "code",
   "execution_count": 40,
   "metadata": {},
   "outputs": [],
   "source": [
    "def reverse_even_index(lst : list):\n",
    "    res = []\n",
    "    for i in range(0,len(lst)):\n",
    "        if i % 2 == 0:\n",
    "            res.append(lst[i])\n",
    "\n",
    "    res.sort(reverse=True)\n",
    "    \n",
    "    return res"
   ]
  },
  {
   "cell_type": "code",
   "execution_count": 41,
   "metadata": {},
   "outputs": [
    {
     "name": "stdout",
     "output_type": "stream",
     "text": [
      "[4, 2, 0]\n"
     ]
    }
   ],
   "source": [
    "lst = [0, 1, 2, 3, 4]\n",
    "\n",
    "print(reverse_even_index(lst))"
   ]
  },
  {
   "cell_type": "markdown",
   "metadata": {},
   "source": [
    "Write a function label_scores(data) that takes a dictionary like:\n",
    "\n",
    "data = {\"Elsa\": 89, \"Anna\": 90, \"Olaf\": 95}\n",
    "And returns:\n",
    "\n",
    "{'Elsa': (89, 'B'), 'Anna': (90, 'B'), 'Olaf': (95, 'A')}\n",
    "Use:\n",
    "\n",
    "A: score > 90\n",
    "\n",
    "B: score > 80\n",
    "\n",
    "C: score > 70\n",
    "\n",
    "F: otherwise"
   ]
  },
  {
   "cell_type": "code",
   "execution_count": null,
   "metadata": {},
   "outputs": [],
   "source": [
    "def label_score(data):\n",
    "    for key in data:\n",
    "        "
   ]
  }
 ],
 "metadata": {
  "kernelspec": {
   "display_name": "base",
   "language": "python",
   "name": "python3"
  },
  "language_info": {
   "codemirror_mode": {
    "name": "ipython",
    "version": 3
   },
   "file_extension": ".py",
   "mimetype": "text/x-python",
   "name": "python",
   "nbconvert_exporter": "python",
   "pygments_lexer": "ipython3",
   "version": "3.13.5"
  },
  "orig_nbformat": 4
 },
 "nbformat": 4,
 "nbformat_minor": 2
}
