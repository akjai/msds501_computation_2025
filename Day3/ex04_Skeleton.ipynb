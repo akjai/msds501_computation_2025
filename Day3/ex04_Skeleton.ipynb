{
 "cells": [
  {
   "attachments": {},
   "cell_type": "markdown",
   "metadata": {},
   "source": [
    "For given two tuples, tuple1 and tuple2, create a function max_among_tuples() which returns the larger numbers on each index.\n",
    "\n",
    "<ul>\n",
    " <li>If the length of tuple1 and tuple2 are different, the returned output should have the same length as the shorter one.\n",
    " <ul>\n",
    " <li> Ex. For tuple1 = (10, 4, 5) and tuple2 = (2, 5, 18), max_among_tuples(tuple1, tuple2) == (10, 5, 18)\n",
    " <li> Ex. For tuple1 = (1, 8, 13, 24) and tuple2 = (1, 10), max_among_tuples(tuple1, tuple2) == (1, 10)\n",
    " </ul>\n",
    "</ul>"
   ]
  },
  {
   "cell_type": "code",
   "execution_count": 8,
   "metadata": {},
   "outputs": [],
   "source": [
    "def max_among_tuples(tuple1, tuple2):\n",
    "    tuple1_length = len(tuple1)\n",
    "    tuple2_length = len(tuple2)\n",
    "    new_tuple = []\n",
    "    for i in range(0, min(tuple1_length, tuple2_length)):\n",
    "        new_tuple.append(max(tuple1[i], tuple2[i]))\n",
    "\n",
    "    return tuple(new_tuple)\n"
   ]
  },
  {
   "cell_type": "code",
   "execution_count": 9,
   "metadata": {},
   "outputs": [
    {
     "data": {
      "text/plain": [
       "True"
      ]
     },
     "execution_count": 9,
     "metadata": {},
     "output_type": "execute_result"
    }
   ],
   "source": [
    "tuple1 = (10, 4, 5)\n",
    "tuple2 = (2, 5, 18)\n",
    "max_among_tuples(tuple1, tuple2) == (10, 5, 18)"
   ]
  },
  {
   "cell_type": "code",
   "execution_count": 10,
   "metadata": {},
   "outputs": [
    {
     "data": {
      "text/plain": [
       "True"
      ]
     },
     "execution_count": 10,
     "metadata": {},
     "output_type": "execute_result"
    }
   ],
   "source": [
    "tuple1 = (1, 8, 13, 24)\n",
    "tuple2 = (1, 10)\n",
    "max_among_tuples(tuple1, tuple2) == (1, 10)"
   ]
  },
  {
   "cell_type": "code",
   "execution_count": null,
   "metadata": {},
   "outputs": [],
   "source": []
  }
 ],
 "metadata": {
  "kernelspec": {
   "display_name": "base",
   "language": "python",
   "name": "python3"
  },
  "language_info": {
   "codemirror_mode": {
    "name": "ipython",
    "version": 3
   },
   "file_extension": ".py",
   "mimetype": "text/x-python",
   "name": "python",
   "nbconvert_exporter": "python",
   "pygments_lexer": "ipython3",
   "version": "3.13.5"
  },
  "orig_nbformat": 4
 },
 "nbformat": 4,
 "nbformat_minor": 2
}
