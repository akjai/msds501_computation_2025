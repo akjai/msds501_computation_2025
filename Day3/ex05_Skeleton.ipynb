{
 "cells": [
  {
   "attachments": {},
   "cell_type": "markdown",
   "metadata": {},
   "source": [
    "For a list of strings in a format of \"category-courseID\", complete class_dictionary() that creates a dictionary of \"category\":\"set of unique courseIDs\".\n",
    "\n",
    "- Ex. classes = [\"computation-MSDS597\",\"statistics-MSDS504\",\"computation-MSDS501\", \"computation-MSDS501\", \"statistics-MSDS504\"], class_dictionary(classes) returns {'computation': {'MSDS501', 'MSDS597'}, 'statistics': {'MSDS504'}}"
   ]
  },
  {
   "cell_type": "code",
   "execution_count": 15,
   "metadata": {},
   "outputs": [],
   "source": [
    "def class_dictionary(classes):\n",
    "    subject_dict = dict()\n",
    "\n",
    "    for c in classes:\n",
    "        split_string = c.split('-')\n",
    "        if split_string[0] not in subject_dict:\n",
    "            course_number_set = set()\n",
    "            course_number_set.add(split_string[1])\n",
    "            subject_dict[split_string[0]] = course_number_set\n",
    "        else:\n",
    "            subject_dict[split_string[0]].add(split_string[1])\n",
    "        \n",
    "    return subject_dict\n",
    "    "
   ]
  },
  {
   "cell_type": "code",
   "execution_count": 16,
   "metadata": {},
   "outputs": [
    {
     "data": {
      "text/plain": [
       "True"
      ]
     },
     "execution_count": 16,
     "metadata": {},
     "output_type": "execute_result"
    }
   ],
   "source": [
    "classes = [\"computation-MSDS597\",\n",
    "           \"statistics-MSDS504\", \n",
    "           \"computation-MSDS501\", \n",
    "           \"computation-MSDS501\", \n",
    "           \"statistics-MSDS504\"]\n",
    "class_dictionary(classes) == {'computation': {'MSDS501', 'MSDS597'}, 'statistics': {'MSDS504'}}"
   ]
  },
  {
   "attachments": {},
   "cell_type": "markdown",
   "metadata": {},
   "source": [
    "From the created dictionary, return all the \"computation\" courses in a list"
   ]
  },
  {
   "cell_type": "code",
   "execution_count": 7,
   "metadata": {},
   "outputs": [
    {
     "data": {
      "text/plain": [
       "['MSDS501', 'MSDS597']"
      ]
     },
     "execution_count": 7,
     "metadata": {},
     "output_type": "execute_result"
    }
   ],
   "source": [
    "cl_list = list(class_dictionary(classes)[\"computation\"])\n",
    "cl_list.reverse()\n",
    "cl_list"
   ]
  },
  {
   "cell_type": "code",
   "execution_count": null,
   "metadata": {},
   "outputs": [],
   "source": []
  }
 ],
 "metadata": {
  "kernelspec": {
   "display_name": "base",
   "language": "python",
   "name": "python3"
  },
  "language_info": {
   "codemirror_mode": {
    "name": "ipython",
    "version": 3
   },
   "file_extension": ".py",
   "mimetype": "text/x-python",
   "name": "python",
   "nbconvert_exporter": "python",
   "pygments_lexer": "ipython3",
   "version": "3.13.5"
  },
  "orig_nbformat": 4
 },
 "nbformat": 4,
 "nbformat_minor": 2
}
