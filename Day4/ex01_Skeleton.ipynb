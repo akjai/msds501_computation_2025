{
 "cells": [
  {
   "cell_type": "markdown",
   "id": "5dc19910",
   "metadata": {},
   "source": [
    "For the given \"classes\"\n",
    "\n",
    "<ol>\n",
    "<li> print the list of (class_id, instructor) </li>\n",
    "<li> print the list including unique classrooms in ascending order </li>\n",
    "</ol>\n",
    "\n",
    "<b>Example</b>\n",
    "```\n",
    "[('msds501', 'Diane Woodbridge'), ('msds502', 'Robert Clements')]\n",
    "[144, 145, 146, 527, 529]\n",
    "```"
   ]
  },
  {
   "cell_type": "code",
   "execution_count": 11,
   "id": "fa7afffc",
   "metadata": {},
   "outputs": [],
   "source": [
    "classes = {\"msds501\":{\"instructor\":\"Diane Woodbridge\", \"classroom\": [144, 145, 146, 527]},\n",
    "        \"msds502\":{\"instructor\":\"Robert Clements\", \"classroom\": [527, 529]}}"
   ]
  },
  {
   "cell_type": "code",
   "execution_count": 14,
   "id": "87821c73",
   "metadata": {},
   "outputs": [
    {
     "name": "stdout",
     "output_type": "stream",
     "text": [
      "[('msds501', 'Diane Woodbridge'), ('msds501', 'Robert Clements')]\n",
      "[144, 145, 146, 527, 527, 529]\n"
     ]
    }
   ],
   "source": [
    "instructor_list = list()\n",
    "classroom_list = list()\n",
    "\n",
    "for key in classes:\n",
    "    # put class id and instructor in tuple and add to instructor_list\n",
    "    class_tuple = (c, classes[key][\"instructor\"])\n",
    "    instructor_list.append(class_tuple)\n",
    "\n",
    "    # append classroom number to classroom_list\n",
    "    for i in range(0, len(classes[key][\"classroom\"])):\n",
    "        classroom_list.append(classes[key][\"classroom\"][i])\n",
    "    \n",
    "\n",
    "print(instructor_list)\n",
    "print(sorted(classroom_list))"
   ]
  }
 ],
 "metadata": {
  "kernelspec": {
   "display_name": "base",
   "language": "python",
   "name": "python3"
  },
  "language_info": {
   "codemirror_mode": {
    "name": "ipython",
    "version": 3
   },
   "file_extension": ".py",
   "mimetype": "text/x-python",
   "name": "python",
   "nbconvert_exporter": "python",
   "pygments_lexer": "ipython3",
   "version": "3.13.5"
  }
 },
 "nbformat": 4,
 "nbformat_minor": 5
}
