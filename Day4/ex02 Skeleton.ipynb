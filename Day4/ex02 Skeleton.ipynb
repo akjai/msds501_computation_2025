{
 "cells": [
  {
   "cell_type": "markdown",
   "id": "ea129697",
   "metadata": {},
   "source": [
    "Given a fixed-length integer array arr, duplicate each occurrence of zero, shifting the remaining elements to the right.\n",
    "\n",
    "Note: Elements beyond the length of the original array are not written. Do the above modifications to the input array in place and do not return anything.\n",
    "\n",
    "<b>Example</b>\n",
    "```\n",
    "arr = [1,0,2,3,0,4,5,0] => [1,0,0,2,3,0,0,4]\n",
    "arr = [1,2,3] => [1,2,3]\n",
    "```"
   ]
  },
  {
   "cell_type": "code",
   "execution_count": 20,
   "id": "d2abc437",
   "metadata": {},
   "outputs": [],
   "source": [
    "arr = [0,1,2,3,4,0]"
   ]
  },
  {
   "cell_type": "code",
   "execution_count": 21,
   "id": "dd493bb3",
   "metadata": {},
   "outputs": [],
   "source": [
    "i = 0\n",
    "while (i < (len(arr))):\n",
    "    if arr[i] == 0:\n",
    "        arr.insert(i, 0)\n",
    "        i += 1\n",
    "    i += 1"
   ]
  },
  {
   "cell_type": "code",
   "execution_count": 22,
   "id": "82bc2966",
   "metadata": {},
   "outputs": [
    {
     "data": {
      "text/plain": [
       "[0, 0, 1, 2, 3, 4, 0, 0]"
      ]
     },
     "execution_count": 22,
     "metadata": {},
     "output_type": "execute_result"
    }
   ],
   "source": [
    "arr"
   ]
  }
 ],
 "metadata": {
  "kernelspec": {
   "display_name": "base",
   "language": "python",
   "name": "python3"
  },
  "language_info": {
   "codemirror_mode": {
    "name": "ipython",
    "version": 3
   },
   "file_extension": ".py",
   "mimetype": "text/x-python",
   "name": "python",
   "nbconvert_exporter": "python",
   "pygments_lexer": "ipython3",
   "version": "3.13.5"
  }
 },
 "nbformat": 4,
 "nbformat_minor": 5
}
