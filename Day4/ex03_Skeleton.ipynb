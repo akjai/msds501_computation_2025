{
 "cells": [
  {
   "cell_type": "markdown",
   "id": "82e56b8f",
   "metadata": {},
   "source": [
    "For the given data, keep the dictionary type, but change the score to a tuple of (score, grade).\n",
    "\n",
    "<b> Grade : </b>\n",
    " - A if the score is higher than 90\n",
    " - B if the score is higher than 80\n",
    " - C if the score is higher than 70\n",
    " - Otherwise,  F\n",
    " \n",
    "<Example>\n",
    "\n",
    "```\n",
    "data = {\"Elsa\":89, \"Anna\":90, \"Olaf\":95, \"Kristoff\":73, \"Hans\":40}\n",
    "```\n",
    "Should be changed to\n",
    "```\n",
    "{'Elsa': (89, 'B'),\n",
    " 'Anna': (90, 'B'),\n",
    " 'Olaf': (95, 'A'),\n",
    " 'Kristoff': (73, 'C'),\n",
    " 'Hans': (40, 'F')}\n",
    "````"
   ]
  },
  {
   "cell_type": "code",
   "execution_count": 12,
   "id": "daf4d20c",
   "metadata": {},
   "outputs": [],
   "source": [
    "data = {\"Elsa\":89, \"Anna\":90, \"Olaf\":95, \"Kristoff\":73, \"Hans\":40}"
   ]
  },
  {
   "cell_type": "code",
   "execution_count": 13,
   "id": "13c4dce1",
   "metadata": {},
   "outputs": [
    {
     "name": "stdout",
     "output_type": "stream",
     "text": [
      "{'Elsa': (89, 'B'), 'Anna': (90, 'B'), 'Olaf': (95, 'A'), 'Kristoff': (73, 'C'), 'Hans': (40, 'F')}\n"
     ]
    }
   ],
   "source": [
    "#try:\n",
    "for key in data:\n",
    "    score = int(data[key])\n",
    "    if (score > 90):\n",
    "        data[key] = (score, 'A')\n",
    "    elif (score > 80 and score <= 90):\n",
    "        data[key] = (score, 'B')\n",
    "    elif (score > 70 and score <= 80):\n",
    "        data[key] = (score, 'C')\n",
    "    else:\n",
    "        data[key] = (score, 'F')\n",
    "    \n",
    "print(data)"
   ]
  },
  {
   "cell_type": "code",
   "execution_count": 14,
   "id": "f80a924d",
   "metadata": {},
   "outputs": [
    {
     "data": {
      "text/plain": [
       "{'Elsa': (89, 'B'),\n",
       " 'Anna': (90, 'B'),\n",
       " 'Olaf': (95, 'A'),\n",
       " 'Kristoff': (73, 'C'),\n",
       " 'Hans': (40, 'F')}"
      ]
     },
     "execution_count": 14,
     "metadata": {},
     "output_type": "execute_result"
    }
   ],
   "source": [
    "data"
   ]
  },
  {
   "cell_type": "code",
   "execution_count": null,
   "id": "5c512167",
   "metadata": {},
   "outputs": [],
   "source": []
  }
 ],
 "metadata": {
  "kernelspec": {
   "display_name": "base",
   "language": "python",
   "name": "python3"
  },
  "language_info": {
   "codemirror_mode": {
    "name": "ipython",
    "version": 3
   },
   "file_extension": ".py",
   "mimetype": "text/x-python",
   "name": "python",
   "nbconvert_exporter": "python",
   "pygments_lexer": "ipython3",
   "version": "3.13.5"
  }
 },
 "nbformat": 4,
 "nbformat_minor": 5
}
