{
 "cells": [
  {
   "cell_type": "markdown",
   "id": "ee99465a",
   "metadata": {},
   "source": []
  },
  {
   "cell_type": "code",
   "execution_count": 2,
   "id": "6aa96061",
   "metadata": {},
   "outputs": [
    {
     "name": "stdout",
     "output_type": "stream",
     "text": [
      "4\n",
      "2\n",
      "2\n",
      "4\n"
     ]
    }
   ],
   "source": [
    "def foo(n):\n",
    "    if n == 0:\n",
    "        return\n",
    "    print(n)\n",
    "    foo(n - 2)\n",
    "    print(n)\n",
    "\n",
    "foo(4)\n"
   ]
  },
  {
   "cell_type": "code",
   "execution_count": null,
   "id": "5394a117",
   "metadata": {},
   "outputs": [],
   "source": [
    "def fib_recursion(n):\n",
    "    if n == 0:\n",
    "        return 0\n",
    "    "
   ]
  },
  {
   "cell_type": "code",
   "execution_count": null,
   "id": "e76b61bb",
   "metadata": {},
   "outputs": [],
   "source": [
    "def fib_iteration(n):\n",
    "    "
   ]
  }
 ],
 "metadata": {
  "kernelspec": {
   "display_name": ".venv",
   "language": "python",
   "name": "python3"
  },
  "language_info": {
   "codemirror_mode": {
    "name": "ipython",
    "version": 3
   },
   "file_extension": ".py",
   "mimetype": "text/x-python",
   "name": "python",
   "nbconvert_exporter": "python",
   "pygments_lexer": "ipython3",
   "version": "3.13.5"
  }
 },
 "nbformat": 4,
 "nbformat_minor": 5
}
