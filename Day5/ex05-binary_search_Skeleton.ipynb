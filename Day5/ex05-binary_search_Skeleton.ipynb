{
 "cells": [
  {
   "cell_type": "markdown",
   "id": "c38b4c2e",
   "metadata": {},
   "source": [
    "Given an array of integers nums which is sorted in ascending order, and an integer target, write a function to search target in nums. If target exists, then return its index. Otherwise, return -1.\n",
    "\n",
    "- Input: nums = [-1,0,3,5,9,12], target = 9\n",
    "    - Output: 4\n",
    "\n",
    "- Input: nums = [-1,0,3,5,9,12], target = 2\n",
    "    - Output: -1"
   ]
  },
  {
   "cell_type": "code",
   "execution_count": null,
   "id": "697ad55e",
   "metadata": {},
   "outputs": [],
   "source": [
    "from typing import List\n",
    "def binary_search(nums: List[int], target: int) -> int:"
   ]
  },
  {
   "cell_type": "code",
   "execution_count": 2,
   "id": "550651c7",
   "metadata": {},
   "outputs": [
    {
     "data": {
      "text/plain": [
       "2"
      ]
     },
     "execution_count": 2,
     "metadata": {},
     "output_type": "execute_result"
    }
   ],
   "source": [
    "binary_search([1,2,3,4], 3)"
   ]
  },
  {
   "cell_type": "markdown",
   "id": "09a1a6b1",
   "metadata": {},
   "source": []
  }
 ],
 "metadata": {
  "kernelspec": {
   "display_name": "base",
   "language": "python",
   "name": "python3"
  },
  "language_info": {
   "codemirror_mode": {
    "name": "ipython",
    "version": 3
   },
   "file_extension": ".py",
   "mimetype": "text/x-python",
   "name": "python",
   "nbconvert_exporter": "python",
   "pygments_lexer": "ipython3",
   "version": "3.13.5"
  }
 },
 "nbformat": 4,
 "nbformat_minor": 5
}
