{
 "cells": [
  {
   "cell_type": "code",
   "execution_count": 29,
   "metadata": {},
   "outputs": [],
   "source": [
    "# Write a decorator double_output that doubles the return value of any function. Then decorate a function that returns 10.\n",
    "def double_output(f):\n",
    "    def double_output_wrapper(**kargs):\n",
    "        res = f(kargs['val']) * 2\n",
    "        return res\n",
    "    return double_output_wrapper"
   ]
  },
  {
   "cell_type": "code",
   "execution_count": 30,
   "metadata": {},
   "outputs": [],
   "source": [
    "@double_output\n",
    "def return_ten(val):\n",
    "    return val"
   ]
  },
  {
   "cell_type": "code",
   "execution_count": 31,
   "metadata": {},
   "outputs": [
    {
     "data": {
      "text/plain": [
       "20"
      ]
     },
     "execution_count": 31,
     "metadata": {},
     "output_type": "execute_result"
    }
   ],
   "source": [
    "return_ten(val=10)"
   ]
  },
  {
   "cell_type": "markdown",
   "metadata": {},
   "source": [
    "Write a function called calculate_grade(scores) that:\n",
    "\n",
    "Takes a list of numerical scores as input\n",
    "Returns a tuple containing (average, letter_grade)\n",
    "Letter grades: A (90+), B (80-89), C (70-79), D (60-69), F (<60)\n",
    "Include proper docstring and function annotations\n",
    "Handle the case where the scores list is empty (return (0, 'F'))"
   ]
  },
  {
   "cell_type": "code",
   "execution_count": null,
   "metadata": {},
   "outputs": [],
   "source": [
    "def calculate_grade(scores : list) -> str:\n",
    "    \"\"\"\n",
    "    Takes in a\n",
    "\n",
    "    Parameters: \n",
    "    scores : list\n",
    "\n",
    "    Return: \n",
    "    Tuple with avg and letter Grade\n",
    "    \"\"\"\n",
    "    sum_scores = 0\n",
    "    for score in score:\n",
    "        sum_scores += score\n",
    "    \n",
    "    average = sum_scores / len(scores)\n",
    "\n",
    "    letter_grade = \"\"\n",
    "\n",
    "    if average >= 90:\n",
    "        letter_grade = 'A'\n",
    "    elif average >= 80:\n",
    "        letter_grade = 'B'\n",
    "    elif average >= 70:\n",
    "        letter_grade = 'C'\n",
    "    elif average >= 60:\n",
    "        letter_grade = 'D'\n",
    "    else:\n",
    "        letter_grade = 'F'\n",
    "\n",
    "    return average, letter_grade"
   ]
  },
  {
   "cell_type": "markdown",
   "metadata": {},
   "source": [
    "Write a function process_student_data(filename) that:\n",
    "\n",
    "Reads a CSV file with columns: name, age, grade, gpa\n",
    "Filters students with GPA > 3.5\n",
    "Writes the filtered results to a new file called 'honor_students.csv'\n",
    "Returns the count of honor students found\n",
    "Use proper file handling with with statements\n",
    "Handle potential file not found errors"
   ]
  },
  {
   "cell_type": "code",
   "execution_count": null,
   "metadata": {},
   "outputs": [],
   "source": [
    "def process_student_data(filename):\n",
    "    with open(filename, 'r') as f:\n",
    "        f.readline()\n",
    "\n",
    "        lines = f.readlines()\n",
    "        filtered = []\n",
    "\n",
    "        for line in lines:\n",
    "            line = line.strip()\n",
    "            split = line.split(',')\n",
    "\n",
    "            if float(split) > 3.5:\n",
    "                filtered.append(line)\n",
    "\n",
    "    new_file = 'honor_students.csv'\n",
    "\n",
    "    with open(new_file, 'w') as f:\n",
    "        f.write(filtered)\n"
   ]
  },
  {
   "cell_type": "code",
   "execution_count": null,
   "metadata": {},
   "outputs": [],
   "source": [
    "def test_divide_by_zero():\n",
    "    assert divide(4, 0) == ValueError(\"Cannot divide by zero\")"
   ]
  }
 ],
 "metadata": {
  "kernelspec": {
   "display_name": ".venv",
   "language": "python",
   "name": "python3"
  },
  "language_info": {
   "codemirror_mode": {
    "name": "ipython",
    "version": 3
   },
   "file_extension": ".py",
   "mimetype": "text/x-python",
   "name": "python",
   "nbconvert_exporter": "python",
   "pygments_lexer": "ipython3",
   "version": "3.13.5"
  }
 },
 "nbformat": 4,
 "nbformat_minor": 2
}
