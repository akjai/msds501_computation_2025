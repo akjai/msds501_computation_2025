{
 "cells": [
  {
   "cell_type": "code",
   "execution_count": 1,
   "metadata": {},
   "outputs": [],
   "source": [
    "# Question 22: Write a function read_large_values that reads a CSV file and prints rows where column 3 (index 2) is greater than 100.\n",
    "file_name = '../Data/epa_air_quality.csv'"
   ]
  },
  {
   "cell_type": "code",
   "execution_count": 2,
   "metadata": {},
   "outputs": [
    {
     "name": "stdout",
     "output_type": "stream",
     "text": [
      "['2020-08-19,60190500,118,82', '2020-08-20,60190500,174,110', '2020-08-21,60190500,211,129', '2020-08-22,60190500,212,129', '2020-08-23,60190500,159,103', '2020-08-24,60190500,200,123', '2020-08-25,60190500,137,92', '2020-08-27,60190500,111,79', '2020-08-28,60190500,105,76', '2020-01-11,60250005,104,75', '2020-01-20,60250005,107,77', '2020-02-06,60250005,103,75', '2020-01-29,60254003,105,76', '2020-06-28,60270002,119,83', '2020-02-02,60270022,562,458', '2020-02-03,60270022,127,87', '2020-05-03,60270022,182,114', '2020-02-02,60270025,537,433', '2020-02-03,60270025,158,102', '2020-02-02,60270028,212,129', '2020-02-02,60270029,144,95', '2020-01-16,60270030,158,102', '2020-01-29,60270030,154,100', '2020-02-02,60270030,361,210', '2020-02-03,60270030,146,96', '2020-02-02,60271001,108,77', '2020-02-02,60271003,253,150', '2020-02-03,60271003,128,87', '2020-03-02,60271003,115,81']\n"
     ]
    }
   ],
   "source": [
    "with open(file_name, 'r') as f:\n",
    "    # read in columns \n",
    "    f.readline()\n",
    "\n",
    "    lines = f.readlines()\n",
    "    result = []\n",
    "    for line in lines:\n",
    "        line = line.strip()\n",
    "        if int(line.split(',')[2]) > 100:\n",
    "            result.append(line)\n",
    "    \n",
    "    print(result)"
   ]
  },
  {
   "cell_type": "code",
   "execution_count": 8,
   "metadata": {},
   "outputs": [
    {
     "data": {
      "text/plain": [
       "'hello'"
      ]
     },
     "execution_count": 8,
     "metadata": {},
     "output_type": "execute_result"
    }
   ],
   "source": [
    "string = \"hello\"\n",
    "string[:]"
   ]
  }
 ],
 "metadata": {
  "kernelspec": {
   "display_name": ".venv",
   "language": "python",
   "name": "python3"
  },
  "language_info": {
   "codemirror_mode": {
    "name": "ipython",
    "version": 3
   },
   "file_extension": ".py",
   "mimetype": "text/x-python",
   "name": "python",
   "nbconvert_exporter": "python",
   "pygments_lexer": "ipython3",
   "version": "3.13.5"
  }
 },
 "nbformat": 4,
 "nbformat_minor": 2
}
