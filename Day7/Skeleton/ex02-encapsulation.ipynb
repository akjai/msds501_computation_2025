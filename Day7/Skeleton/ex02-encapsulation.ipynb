{
 "cells": [
  {
   "cell_type": "markdown",
   "id": "1b545ced",
   "metadata": {},
   "source": [
    "Create a Human Class, which takes name, age, wage.\n",
    "\n",
    "While name is a public attribute, age is protected,\n",
    "and wage is private\n",
    "\n",
    "-  See whether you can call age and wage.\n",
    "-  Try to add protected and private methods and see whether you can access them outside of the class."
   ]
  },
  {
   "cell_type": "code",
   "execution_count": 6,
   "id": "a74e682c",
   "metadata": {},
   "outputs": [],
   "source": [
    "class Human():\n",
    "    def __init__(self, name, age, wage):\n",
    "        self.name = name\n",
    "        self._age = age\n",
    "        self.__wage = wage\n",
    "    \n",
    "    def print_wage(self):\n",
    "        print(self.__wage)"
   ]
  },
  {
   "cell_type": "code",
   "execution_count": 8,
   "id": "bfd1b454",
   "metadata": {},
   "outputs": [
    {
     "name": "stdout",
     "output_type": "stream",
     "text": [
      "John\n",
      "24\n"
     ]
    }
   ],
   "source": [
    "obj = Human(\"John\", 24, 85000)\n",
    "print(obj.name)  # John\n",
    "print(obj._age)  # 24 \n",
    "#print(obj.__wage)  # Error"
   ]
  },
  {
   "cell_type": "code",
   "execution_count": 9,
   "id": "bba1d081",
   "metadata": {},
   "outputs": [
    {
     "name": "stdout",
     "output_type": "stream",
     "text": [
      "85000\n"
     ]
    }
   ],
   "source": [
    "obj.print_wage()"
   ]
  }
 ],
 "metadata": {
  "kernelspec": {
   "display_name": "base",
   "language": "python",
   "name": "python3"
  },
  "language_info": {
   "codemirror_mode": {
    "name": "ipython",
    "version": 3
   },
   "file_extension": ".py",
   "mimetype": "text/x-python",
   "name": "python",
   "nbconvert_exporter": "python",
   "pygments_lexer": "ipython3",
   "version": "3.13.5"
  }
 },
 "nbformat": 4,
 "nbformat_minor": 5
}
