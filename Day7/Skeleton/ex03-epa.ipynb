{
 "cells": [
  {
   "cell_type": "code",
   "execution_count": 2,
   "metadata": {},
   "outputs": [],
   "source": [
    "import csv"
   ]
  },
  {
   "cell_type": "code",
   "execution_count": 3,
   "metadata": {},
   "outputs": [],
   "source": [
    "class EpaStation():\n",
    "    \"\"\"\n",
    "    Create a class called EpaStation.\n",
    "    where its consructor takes/assigns name, station_id, state, county, lon, and lat.\n",
    "    This class also has aqi_record which is a list of dictionary in a format of \n",
    "    {'YYYY-MM-DD': (pm10, aqi)}.\n",
    "    Override __eq__ which is invoked when == is being called.\n",
    "    Add a method called add_aqi_record(self, date, pm10, aqi), which \n",
    "    append {date:(pm10, aqi)} if the date is not yet in aqi_record.\n",
    "    \"\"\"\n",
    "    def __init__(self, name, station_id, state, county, lon, lat, aqi_record):\n",
    "        self.name = name\n",
    "        self.station_id = station_id\n",
    "        self.state = state\n",
    "        self.county = county\n",
    "        self.lon = lon\n",
    "        self.lat = lat\n",
    "        self.aqi_record = aqi_record\n",
    "    \n",
    "    def __eq__(self, other):\n",
    "        return self == other\n",
    "\n",
    "    def add_aqi_record(self, date, pm10, aqi):\n",
    "        self.date = date\n",
    "        self.pm10 = pm10\n",
    "        self.aqi = aqi\n",
    "\n",
    "   "
   ]
  },
  {
   "cell_type": "code",
   "execution_count": 5,
   "metadata": {},
   "outputs": [],
   "source": [
    "file_name = '../../Data/epa_air_quality_detailed.csv'"
   ]
  },
  {
   "cell_type": "code",
   "execution_count": 10,
   "metadata": {},
   "outputs": [],
   "source": [
    "def create_station_object_list(file_name):\n",
    "    \"\"\"\n",
    "    Create a function called, create_station_object_list(file_name) which reads data\n",
    "    from file_name (.csv) and creates a list of EpaStation objects which includes \n",
    "    name, station_id, state, county, lon, lat and api_record array of an EPA station.\n",
    "    \"\"\"\n",
    "    with open(file_name, 'r') as f:\n",
    "        csv_reader = csv.reader(f)\n",
    "        for row in csv_reader:\n",
    "            new_epa_station = EpaStation(row[6], row[3], row[7], row[8], row[9], row[10])\n",
    "   "
   ]
  },
  {
   "cell_type": "code",
   "execution_count": 11,
   "metadata": {},
   "outputs": [],
   "source": [
    "create_station_object_list(file_name)"
   ]
  },
  {
   "cell_type": "code",
   "execution_count": null,
   "metadata": {},
   "outputs": [],
   "source": []
  }
 ],
 "metadata": {
  "kernelspec": {
   "display_name": "base",
   "language": "python",
   "name": "python3"
  },
  "language_info": {
   "codemirror_mode": {
    "name": "ipython",
    "version": 3
   },
   "file_extension": ".py",
   "mimetype": "text/x-python",
   "name": "python",
   "nbconvert_exporter": "python",
   "pygments_lexer": "ipython3",
   "version": "3.13.5"
  },
  "orig_nbformat": 4
 },
 "nbformat": 4,
 "nbformat_minor": 2
}
