{
 "cells": [
  {
   "cell_type": "code",
   "execution_count": 31,
   "id": "ebea8006",
   "metadata": {},
   "outputs": [],
   "source": [
    "class FileReader:\n",
    "    def __init__(self, file_path):\n",
    "       self.file_path = file_path\n",
    "       self.check_file_format()\n",
    "       self.load()\n",
    "    \n",
    "    def load(self):\n",
    "        with open(self.file_path, 'r') as f:\n",
    "            self.lines = []\n",
    "            for line in f:\n",
    "                self.lines.append(line.strip())\n",
    "            \n",
    "            self.line_count = len(self.lines)\n",
    "\n",
    "        \n",
    "    def print(self, n = 10):\n",
    "        for i in range(n):\n",
    "            print(self.lines[i])\n",
    "        \n",
    "    def check_file_format(self):\n",
    "        self.file_format = self.file_path.strip('./').split('.')[1]\n",
    "        "
   ]
  },
  {
   "cell_type": "code",
   "execution_count": 32,
   "id": "501ee6d2",
   "metadata": {},
   "outputs": [
    {
     "name": "stdout",
     "output_type": "stream",
     "text": [
      "tsv\n",
      "74\n"
     ]
    }
   ],
   "source": [
    "file_reader = FileReader(\"../../Data/countries.tsv\")\n",
    "print(file_reader.file_format)\n",
    "print(file_reader.line_count)\n"
   ]
  },
  {
   "cell_type": "code",
   "execution_count": 33,
   "id": "ef8a9b8b",
   "metadata": {},
   "outputs": [
    {
     "name": "stdout",
     "output_type": "stream",
     "text": [
      "AD\tAndorra\t42.5\t1.5\n",
      "AE\tUnited Arab Emirates\t24\t54\n",
      "AF\tAfghanistan\t33\t65\n",
      "AG\tAntigua and Barbuda\t17.05\t-61.8\n",
      "AI\tAnguilla\t18.25\t-63.17\n",
      "AL\tAlbania\t41\t20\n",
      "AM\tArmenia\t40\t45\n",
      "AN\tNetherlands Antilles\t12.25\t-68.75\n",
      "AO\tAngola\t-12.5\t18.5\n",
      "AP\tAsia/Pacific Region\t35\t105\n"
     ]
    }
   ],
   "source": [
    "file_reader.print()"
   ]
  },
  {
   "cell_type": "code",
   "execution_count": 34,
   "id": "667e9bb7",
   "metadata": {},
   "outputs": [
    {
     "name": "stdout",
     "output_type": "stream",
     "text": [
      "AD\tAndorra\t42.5\t1.5\n",
      "AE\tUnited Arab Emirates\t24\t54\n",
      "AF\tAfghanistan\t33\t65\n",
      "AG\tAntigua and Barbuda\t17.05\t-61.8\n",
      "AI\tAnguilla\t18.25\t-63.17\n"
     ]
    }
   ],
   "source": [
    "file_reader.print(5)"
   ]
  },
  {
   "cell_type": "code",
   "execution_count": 46,
   "id": "87562141",
   "metadata": {},
   "outputs": [],
   "source": [
    "class CSVReader(FileReader):\n",
    "    def __init__(self, *args):    \n",
    "        super.file_path = args[0]\n",
    "        super().check_file_format()\n",
    "        super().check_file_format()\n",
    "        self.header = args[1]\n",
    "\n",
    "    def split(self):\n",
    "        self.splitted_lines = []\n",
    "        if self.extension == 'csv':\n",
    "            for line in f:\n",
    "                self.splitted_lines.append(line.strip().split(','))\n",
    "                self.line_count = len(self.splitted_lines) \n",
    "        elif self.extension == 'tsv':\n",
    "            for line in f:\n",
    "                self.splitted_lines.append(line.strip().split('\\t'))\n",
    "                self.line_count = len(self.splitted_lines) \n",
    "        else:\n",
    "            self.splitted_lines = None\n",
    "            self.line_count = None\n",
    "    \n",
    "    def print(self, n):\n",
    "        try: \n",
    "            for i in range(n):\n",
    "                print(self.splitted_lines[i])\n",
    "        except TypeError:\n",
    "            print(\"File format not supported\")"
   ]
  },
  {
   "cell_type": "code",
   "execution_count": 47,
   "id": "2e2279fd",
   "metadata": {},
   "outputs": [
    {
     "ename": "TypeError",
     "evalue": "cannot set 'file_path' attribute of immutable type 'super'",
     "output_type": "error",
     "traceback": [
      "\u001b[31m---------------------------------------------------------------------------\u001b[39m",
      "\u001b[31mTypeError\u001b[39m                                 Traceback (most recent call last)",
      "\u001b[36mCell\u001b[39m\u001b[36m \u001b[39m\u001b[32mIn[47]\u001b[39m\u001b[32m, line 1\u001b[39m\n\u001b[32m----> \u001b[39m\u001b[32m1\u001b[39m csv_file = \u001b[43mCSVReader\u001b[49m\u001b[43m(\u001b[49m\u001b[33;43m\"\u001b[39;49m\u001b[33;43m../../Data/countries.tsv\u001b[39;49m\u001b[33;43m\"\u001b[39;49m\u001b[43m)\u001b[49m\n",
      "\u001b[36mCell\u001b[39m\u001b[36m \u001b[39m\u001b[32mIn[46]\u001b[39m\u001b[32m, line 3\u001b[39m, in \u001b[36mCSVReader.__init__\u001b[39m\u001b[34m(self, *args)\u001b[39m\n\u001b[32m      2\u001b[39m \u001b[38;5;28;01mdef\u001b[39;00m\u001b[38;5;250m \u001b[39m\u001b[34m__init__\u001b[39m(\u001b[38;5;28mself\u001b[39m, *args):    \n\u001b[32m----> \u001b[39m\u001b[32m3\u001b[39m     \u001b[38;5;28;43msuper\u001b[39;49m\u001b[43m.\u001b[49m\u001b[43mfile_path\u001b[49m = args[\u001b[32m0\u001b[39m]\n\u001b[32m      4\u001b[39m     \u001b[38;5;28msuper\u001b[39m().check_file_format()\n\u001b[32m      5\u001b[39m     \u001b[38;5;28msuper\u001b[39m().check_file_format()\n",
      "\u001b[31mTypeError\u001b[39m: cannot set 'file_path' attribute of immutable type 'super'"
     ]
    }
   ],
   "source": [
    "csv_file = CSVReader(\"../../Data/countries.tsv\")"
   ]
  },
  {
   "cell_type": "code",
   "execution_count": 43,
   "id": "b9823ec6",
   "metadata": {},
   "outputs": [
    {
     "ename": "AttributeError",
     "evalue": "'CSVReader' object has no attribute 'split'",
     "output_type": "error",
     "traceback": [
      "\u001b[31m---------------------------------------------------------------------------\u001b[39m",
      "\u001b[31mAttributeError\u001b[39m                            Traceback (most recent call last)",
      "\u001b[36mCell\u001b[39m\u001b[36m \u001b[39m\u001b[32mIn[43]\u001b[39m\u001b[32m, line 1\u001b[39m\n\u001b[32m----> \u001b[39m\u001b[32m1\u001b[39m \u001b[43mcsv_file\u001b[49m\u001b[43m.\u001b[49m\u001b[43msplit\u001b[49m()\n\u001b[32m      2\u001b[39m csv_file.line_count\n",
      "\u001b[31mAttributeError\u001b[39m: 'CSVReader' object has no attribute 'split'"
     ]
    }
   ],
   "source": [
    "csv_file.split()\n",
    "csv_file.line_count"
   ]
  },
  {
   "cell_type": "code",
   "execution_count": null,
   "id": "5f98dddb",
   "metadata": {},
   "outputs": [
    {
     "name": "stdout",
     "output_type": "stream",
     "text": [
      "1: ['AD', 'Andorra', '42.5', '1.5']\n",
      "2: ['AE', 'United Arab Emirates', '24', '54']\n"
     ]
    }
   ],
   "source": [
    "csv_file.print(2)"
   ]
  },
  {
   "cell_type": "code",
   "execution_count": null,
   "id": "2a1cd841",
   "metadata": {},
   "outputs": [
    {
     "name": "stdout",
     "output_type": "stream",
     "text": [
      "start_idx - 0\n",
      "1 : ['date', 'site_id', 'daily_mean_pm10_conentration', 'daily_aqi_value']\n",
      "2 : ['2020-01-01', '60070008', '27', '25']\n",
      "3 : ['2020-01-02', '60070008', '22', '20']\n",
      "4 : ['2020-01-03', '60070008', '30', '28']\n",
      "5 : ['2020-01-04', '60070008', '17', '16']\n",
      "6 : ['2020-01-05', '60070008', '18', '17']\n",
      "7 : ['2020-01-06', '60070008', '13', '12']\n",
      "8 : ['2020-01-07', '60070008', '26', '24']\n",
      "9 : ['2020-01-08', '60070008', '24', '22']\n",
      "10 : ['2020-01-09', '60070008', '9', '8']\n"
     ]
    }
   ],
   "source": [
    "csv_file = CSVReader(\"../Data/epa_air_quality.csv\",header= False)\n",
    "csv_file.print()"
   ]
  },
  {
   "cell_type": "code",
   "execution_count": null,
   "id": "0bc0bbd0",
   "metadata": {},
   "outputs": [],
   "source": []
  },
  {
   "cell_type": "code",
   "execution_count": null,
   "id": "fff7fa86",
   "metadata": {},
   "outputs": [],
   "source": []
  }
 ],
 "metadata": {
  "kernelspec": {
   "display_name": "base",
   "language": "python",
   "name": "python3"
  },
  "language_info": {
   "codemirror_mode": {
    "name": "ipython",
    "version": 3
   },
   "file_extension": ".py",
   "mimetype": "text/x-python",
   "name": "python",
   "nbconvert_exporter": "python",
   "pygments_lexer": "ipython3",
   "version": "3.13.5"
  }
 },
 "nbformat": 4,
 "nbformat_minor": 5
}
