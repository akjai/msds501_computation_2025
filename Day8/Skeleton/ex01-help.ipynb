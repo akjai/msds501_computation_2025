{
 "cells": [
  {
   "attachments": {},
   "cell_type": "markdown",
   "id": "742c3999-cf12-4c46-a736-a0d92cf1afdb",
   "metadata": {},
   "source": [
    "***\n",
    "- For the html package, see available functions and modules.\n",
    "- In the html package, see the parser function’s documentation.\n",
    "***"
   ]
  },
  {
   "attachments": {},
   "cell_type": "markdown",
   "id": "2cb820e6",
   "metadata": {},
   "source": []
  },
  {
   "attachments": {},
   "cell_type": "markdown",
   "id": "65eb0669-9c68-4b0e-b989-a351b624aa3c",
   "metadata": {
    "tags": []
   },
   "source": [
    "#### Python dir() \n",
    "- Returns included functions, modules, etc.\n",
    "\n",
    "#### Python help() \n",
    "\n",
    "- Display the documentation of modules, packages, functions, classes, keywords, etc. \n",
    "\n",
    "- Useful for understanding usage, input/output and examples.\n",
    "\n",
    "#### Jupyter Lab supports auto-complete\n",
    "- If you hit tab after your module name ex. math.[tab] it shows available options."
   ]
  },
  {
   "cell_type": "code",
   "execution_count": 2,
   "id": "acaaf808-f2bf-4df4-a3ff-3b8c26d5fc0f",
   "metadata": {},
   "outputs": [],
   "source": [
    "import html"
   ]
  },
  {
   "cell_type": "code",
   "execution_count": 3,
   "id": "dd01340a-9b29-4b9f-a049-cd7134ec8494",
   "metadata": {},
   "outputs": [
    {
     "data": {
      "text/plain": [
       "['__all__',\n",
       " '__builtins__',\n",
       " '__cached__',\n",
       " '__doc__',\n",
       " '__file__',\n",
       " '__loader__',\n",
       " '__name__',\n",
       " '__package__',\n",
       " '__path__',\n",
       " '__spec__',\n",
       " '_charref',\n",
       " '_html5',\n",
       " '_invalid_charrefs',\n",
       " '_invalid_codepoints',\n",
       " '_re',\n",
       " '_replace_charref',\n",
       " 'entities',\n",
       " 'escape',\n",
       " 'unescape']"
      ]
     },
     "execution_count": 3,
     "metadata": {},
     "output_type": "execute_result"
    }
   ],
   "source": [
    "dir(html)"
   ]
  },
  {
   "cell_type": "code",
   "execution_count": 4,
   "id": "b6a595b6-b71c-4106-854d-064276073072",
   "metadata": {},
   "outputs": [
    {
     "name": "stdout",
     "output_type": "stream",
     "text": [
      "Help on package html:\n",
      "\n",
      "NAME\n",
      "    html - General functions for HTML manipulation.\n",
      "\n",
      "PACKAGE CONTENTS\n",
      "    entities\n",
      "    parser\n",
      "\n",
      "FUNCTIONS\n",
      "    escape(s, quote=True)\n",
      "        Replace special characters \"&\", \"<\" and \">\" to HTML-safe sequences.\n",
      "        If the optional flag quote is true (the default), the quotation mark\n",
      "        characters, both double quote (\") and single quote (') characters are also\n",
      "        translated.\n",
      "\n",
      "    unescape(s)\n",
      "        Convert all named and numeric character references (e.g. &gt;, &#62;,\n",
      "        &x3e;) in the string s to the corresponding unicode characters.\n",
      "        This function uses the rules defined by the HTML 5 standard\n",
      "        for both valid and invalid character references, and the list of\n",
      "        HTML 5 named character references defined in html.entities.html5.\n",
      "\n",
      "DATA\n",
      "    __all__ = ['escape', 'unescape']\n",
      "\n",
      "FILE\n",
      "    /opt/homebrew/Cellar/python@3.13/3.13.5/Frameworks/Python.framework/Versions/3.13/lib/python3.13/html/__init__.py\n",
      "\n",
      "\n"
     ]
    }
   ],
   "source": [
    "help(html)"
   ]
  },
  {
   "cell_type": "code",
   "execution_count": 5,
   "id": "fad32958",
   "metadata": {},
   "outputs": [
    {
     "name": "stdout",
     "output_type": "stream",
     "text": [
      "Help on function escape in module html:\n",
      "\n",
      "escape(s, quote=True)\n",
      "    Replace special characters \"&\", \"<\" and \">\" to HTML-safe sequences.\n",
      "    If the optional flag quote is true (the default), the quotation mark\n",
      "    characters, both double quote (\") and single quote (') characters are also\n",
      "    translated.\n",
      "\n"
     ]
    }
   ],
   "source": [
    "help(html.escape)"
   ]
  }
 ],
 "metadata": {
  "kernelspec": {
   "display_name": "Python 3 (ipykernel)",
   "language": "python",
   "name": "python3"
  },
  "language_info": {
   "codemirror_mode": {
    "name": "ipython",
    "version": 3
   },
   "file_extension": ".py",
   "mimetype": "text/x-python",
   "name": "python",
   "nbconvert_exporter": "python",
   "pygments_lexer": "ipython3",
   "version": "3.13.5"
  }
 },
 "nbformat": 4,
 "nbformat_minor": 5
}
