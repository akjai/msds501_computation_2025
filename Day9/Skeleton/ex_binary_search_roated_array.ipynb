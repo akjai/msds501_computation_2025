{
 "cells": [
  {
   "cell_type": "code",
   "execution_count": null,
   "id": "f19f459d",
   "metadata": {},
   "outputs": [],
   "source": [
    "def binary_search(arr, x):\n",
    "    mid = len(x) - 1 // 2\n",
    "    \n",
    "   "
   ]
  }
 ],
 "metadata": {
  "language_info": {
   "name": "python"
  }
 },
 "nbformat": 4,
 "nbformat_minor": 5
}
