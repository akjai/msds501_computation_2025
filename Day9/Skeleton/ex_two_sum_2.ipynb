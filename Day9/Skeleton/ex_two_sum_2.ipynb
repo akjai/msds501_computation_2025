{
 "cells": [
  {
   "cell_type": "code",
   "execution_count": 3,
   "id": "d0a6c956",
   "metadata": {},
   "outputs": [],
   "source": [
    "def twoSum(numbers, target):\n",
    "    l = 0\n",
    "    r = len(numbers) - 1\n",
    "\n",
    "    res = (l, r)\n",
    "    while(l < r):\n",
    "        if numbers[l] + numbers[r] == target:\n",
    "            res = (l + 1, r + 1)\n",
    "            break\n",
    "        elif numbers[l] + numbers[r] > target:\n",
    "            r -= 1\n",
    "        elif numbers[l] + numbers[r] < target:\n",
    "            l += 1\n",
    "        \n",
    "    return res"
   ]
  },
  {
   "cell_type": "code",
   "execution_count": 4,
   "id": "79b770cc",
   "metadata": {},
   "outputs": [
    {
     "data": {
      "text/plain": [
       "(2, 5)"
      ]
     },
     "execution_count": 4,
     "metadata": {},
     "output_type": "execute_result"
    }
   ],
   "source": [
    "numbers = [1, 2, 4, 5, 7]\n",
    "target = 9\n",
    "twoSum(numbers, target) # returns [2, 5]\n",
    "\n"
   ]
  },
  {
   "cell_type": "code",
   "execution_count": null,
   "id": "7c5bbe3e",
   "metadata": {},
   "outputs": [],
   "source": []
  }
 ],
 "metadata": {
  "kernelspec": {
   "display_name": "base",
   "language": "python",
   "name": "python3"
  },
  "language_info": {
   "codemirror_mode": {
    "name": "ipython",
    "version": 3
   },
   "file_extension": ".py",
   "mimetype": "text/x-python",
   "name": "python",
   "nbconvert_exporter": "python",
   "pygments_lexer": "ipython3",
   "version": "3.13.5"
  }
 },
 "nbformat": 4,
 "nbformat_minor": 5
}
