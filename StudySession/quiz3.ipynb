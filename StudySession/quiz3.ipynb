{
 "cells": [
  {
   "cell_type": "code",
   "execution_count": 12,
   "id": "92b1893d",
   "metadata": {},
   "outputs": [
    {
     "name": "stdout",
     "output_type": "stream",
     "text": [
      "False\n",
      "None\n",
      "False\n"
     ]
    }
   ],
   "source": [
    "found = False\n",
    "def find_val(lst:list, target: int) -> bool:\n",
    "    print(found)\n",
    "    #found = True\n",
    "\n",
    "print(find_val([1,2,3],2))\n",
    "print(found)"
   ]
  },
  {
   "cell_type": "code",
   "execution_count": 187,
   "id": "2904e9f6",
   "metadata": {},
   "outputs": [],
   "source": [
    "\n",
    "def find_val(lst:list, target: int) -> bool:\n",
    "    found = False\n",
    "    if(target in lst):\n",
    "        found = True\n",
    "    else:\n",
    "        return found  "
   ]
  },
  {
   "cell_type": "code",
   "execution_count": 188,
   "id": "06b5cf72",
   "metadata": {},
   "outputs": [],
   "source": [
    " found = False\n",
    " def find_val(lst:list, target: int) -> bool:\n",
    "    global found\n",
    "    if(target in lst):\n",
    "        found = True\n",
    "        return found\n",
    "    else:\n",
    "        return found\n",
    "\n",
    " print(find_val([1,2,3],3))"
   ]
  },
  {
   "cell_type": "code",
   "execution_count": 189,
   "id": "df7e184d",
   "metadata": {},
   "outputs": [],
   "source": [
    "#  found = False\n",
    "#  def find_val(lst:list, target: int) -> bool:\n",
    "#     global found\n",
    "#     if(target in lst):\n",
    "#         found = True\n",
    "#         return found\n",
    "# print(find_val([1,2,3],2))\n",
    "# print(found)"
   ]
  },
  {
   "cell_type": "code",
   "execution_count": 190,
   "id": "219a8e81",
   "metadata": {},
   "outputs": [],
   "source": [
    "# found = True\n",
    "# num = 2\n",
    "\n",
    "# def check_global():\n",
    "#     print(num)\n",
    "#     return found\n",
    "\n",
    "# check_global()\n"
   ]
  },
  {
   "cell_type": "code",
   "execution_count": 191,
   "id": "51b263b7",
   "metadata": {},
   "outputs": [],
   "source": [
    "# name = ['diaz','ernesto']\n",
    "\n",
    "# def print_name(name):\n",
    "#     # name[1],name[0] = name[0],name[1] #swaping \n",
    "#     return f\"{name[1]} {name[0]}\"\n",
    "\n",
    "# print_name(name)\n",
    "# print(name)"
   ]
  },
  {
   "cell_type": "code",
   "execution_count": 192,
   "id": "0a8cf2a8",
   "metadata": {},
   "outputs": [],
   "source": [
    "# name = \"ernesto diaz\"\n",
    "\n",
    "# def print_name(something):\n",
    "#     name = \"Diaz, Ernesto\"\n",
    "#     return name\n",
    "\n",
    "# print_name('Ernesto, Flores')"
   ]
  },
  {
   "cell_type": "code",
   "execution_count": 193,
   "id": "40bf0554",
   "metadata": {},
   "outputs": [
    {
     "data": {
      "text/plain": [
       "1"
      ]
     },
     "execution_count": 193,
     "metadata": {},
     "output_type": "execute_result"
    }
   ],
   "source": [
    "counter = 0\n",
    "def stats(vals):\n",
    "    length = len(vals)\n",
    "    global counter\n",
    "    counter += length\n",
    "    return min(vals)\n",
    "\n",
    "stats([1,2,3,4])\n"
   ]
  },
  {
   "cell_type": "code",
   "execution_count": 194,
   "id": "91328b9b",
   "metadata": {},
   "outputs": [
    {
     "name": "stdout",
     "output_type": "stream",
     "text": [
      "101 howard st\n"
     ]
    }
   ],
   "source": [
    "def function(**args): #arbitary keyword\n",
    "    print(args['street'])\n",
    "function(street = \"101 howard st\",city = \"San Francisco\", state = \"CA\")    "
   ]
  },
  {
   "cell_type": "code",
   "execution_count": 195,
   "id": "32a869f6",
   "metadata": {},
   "outputs": [],
   "source": [
    "# def excersie1(name,school):\n",
    "#     return name\n",
    "# print(excersie1(\"ernesto\",\"USF\")) #return name \n",
    "# print(excersie1(\"USF\",\"ernesto\")) # return USF\n",
    "# print(excersie1(name=\"Ernesto\",school=\"USF\")) #ERnesto \n",
    "# print(excersie1(school=\"USF\",name = \"ernesto\"))#return  ernesto\n",
    "# print(excersie1(\"Ernesto\")) \n",
    "# print(excersie1(name = \"Ernesto\"))\n",
    "      \n"
   ]
  },
  {
   "cell_type": "code",
   "execution_count": null,
   "id": "a19a50c0",
   "metadata": {},
   "outputs": [],
   "source": []
  },
  {
   "cell_type": "code",
   "execution_count": 196,
   "id": "f58e045f",
   "metadata": {},
   "outputs": [
    {
     "name": "stdout",
     "output_type": "stream",
     "text": [
      "('ernesto', 'USF')\n",
      "('USF', 'ernesto')\n",
      "('Ernesto', 'USF')\n",
      "('ernesto', 'USF')\n",
      "('Ernesto', 'USF')\n",
      "('Ernesto', 'USF')\n"
     ]
    }
   ],
   "source": [
    "def excersie1(name:str,school:str = \"USF\"):\n",
    "    return name, school\n",
    "print(excersie1(\"ernesto\",\"USF\")) #return name \n",
    "print(excersie1(\"USF\",\"ernesto\")) # return USF\n",
    "print(excersie1(name=\"Ernesto\",school=\"USF\")) #ERnesto \n",
    "print(excersie1(school=\"USF\",name = \"ernesto\"))#return  ernesto\n",
    "print(excersie1(\"Ernesto\")) \n",
    "print(excersie1(name = \"Ernesto\"))\n",
    "      "
   ]
  },
  {
   "cell_type": "code",
   "execution_count": 197,
   "id": "a2be9af1",
   "metadata": {},
   "outputs": [],
   "source": [
    "# def excersie1(name:str,school:str):\n",
    "#     return name, school\n",
    "# print(excersie1(\"ernesto\",\"USF\")) #return name \n",
    "# print(excersie1(\"USF\",\"ernesto\")) # return USF\n",
    "# print(excersie1(name=\"Ernesto\",school=\"USF\")) #ERnesto \n",
    "# print(excersie1(school=\"USF\",name = \"ernesto\"))#return  ernesto\n",
    "# print(excersie1(\"Ernesto\")) \n",
    "# print(excersie1(name = \"Ernesto\"))\n",
    "      "
   ]
  },
  {
   "cell_type": "code",
   "execution_count": 198,
   "id": "2dbfc81d",
   "metadata": {},
   "outputs": [],
   "source": [
    "# def exercise2(*arg): #arbitaary postional \n",
    "#     return arg[0],arg[1]\n",
    "\n",
    "# def exercise3(**var): #arbitary keyword\n",
    "#     return var[\"name\"],var['school']\n",
    "\n",
    "# print(exercise2(\"ernesto\",\"USF\")) #Ernesto #USF\n",
    "# print(exercise2(\"USF\",\"ernesto\")) #USF Ernesto\n",
    "# print(exercise2(name=\"Ernesto\")) #Error\n",
    "# print(exercise2(name=\"Ernesto\",school = \"USF\"))#Error\n",
    "# print(exercise2(school = \"USF\",name = 'Ernesto',something =  \"Hello \")) #Error\n",
    "# print(exercise2(name = \"Ernesto\"))#Errkr\n",
    "# print(exercise2(\"Ernesto\"))\n",
    "# print(exercise2(\"Ernesto\",'USF',\"Blah\"))#"
   ]
  },
  {
   "cell_type": "code",
   "execution_count": null,
   "id": "6f812d87",
   "metadata": {},
   "outputs": [],
   "source": []
  },
  {
   "cell_type": "code",
   "execution_count": 199,
   "id": "e3bb69ac",
   "metadata": {},
   "outputs": [],
   "source": [
    "def pytest_excersie3():\n",
    "    excersie2(name=\"Ernesto\",)"
   ]
  },
  {
   "cell_type": "code",
   "execution_count": 200,
   "id": "c3891a7e",
   "metadata": {},
   "outputs": [
    {
     "data": {
      "text/plain": [
       "[(1, 2, 3), (3, 4), (5, 4, 3, 2)]"
      ]
     },
     "execution_count": 200,
     "metadata": {},
     "output_type": "execute_result"
    }
   ],
   "source": [
    "#sort the list by the last element in descending order\n",
    "lst =[(1,2,3),(3,4),(5,4,3,2)]\n",
    "lst.sort(key=lambda x:x)\n",
    "lst"
   ]
  },
  {
   "cell_type": "code",
   "execution_count": 201,
   "id": "97743d69",
   "metadata": {},
   "outputs": [
    {
     "data": {
      "text/plain": [
       "'Josh Josh Josh '"
      ]
     },
     "execution_count": 201,
     "metadata": {},
     "output_type": "execute_result"
    }
   ],
   "source": [
    "#function is a decorator that return the outputs 3 times \n",
    "def function(f):\n",
    "    def wrapper(*args):\n",
    "        return f(*args) * 3\n",
    "    return wrapper\n",
    "\n",
    "@function\n",
    "def name(string):\n",
    "    return string + \" \"\n",
    "\n",
    "\n",
    "\n",
    "name(\"Josh\")\n"
   ]
  },
  {
   "cell_type": "code",
   "execution_count": 202,
   "id": "e8bf4028",
   "metadata": {},
   "outputs": [],
   "source": [
    "def fib(n):\n",
    "    if n <= 1:\n",
    "     return n\n",
    "    else:\n",
    "      return fib(n-1) + fib(n-2)\n",
    "    \n"
   ]
  },
  {
   "cell_type": "code",
   "execution_count": 203,
   "id": "a8e400d7",
   "metadata": {},
   "outputs": [
    {
     "name": "stdout",
     "output_type": "stream",
     "text": [
      "4335905128\n",
      "4335905128\n",
      "4335905160\n"
     ]
    }
   ],
   "source": [
    "a = 1\n",
    "print(id(a))\n",
    "b = a\n",
    "print(id(b))\n",
    "a = 2\n",
    "print(id(a))"
   ]
  },
  {
   "cell_type": "code",
   "execution_count": null,
   "id": "cfeefe01",
   "metadata": {},
   "outputs": [
    {
     "name": "stdout",
     "output_type": "stream",
     "text": [
      "4542079808\n",
      "4412595200\n",
      "4335905128\n",
      "4335905128\n"
     ]
    },
    {
     "ename": "TypeError",
     "evalue": "'int' object does not support item assignment",
     "output_type": "error",
     "traceback": [
      "\u001b[0;31m---------------------------------------------------------------------------\u001b[0m",
      "\u001b[0;31mTypeError\u001b[0m                                 Traceback (most recent call last)",
      "Cell \u001b[0;32mIn[208], line 7\u001b[0m\n\u001b[1;32m      5\u001b[0m \u001b[38;5;28mprint\u001b[39m(\u001b[38;5;28mid\u001b[39m(a[\u001b[38;5;241m0\u001b[39m]))\n\u001b[1;32m      6\u001b[0m \u001b[38;5;28mprint\u001b[39m(\u001b[38;5;28mid\u001b[39m(b[\u001b[38;5;241m0\u001b[39m]))\n\u001b[0;32m----> 7\u001b[0m a[\u001b[38;5;241m0\u001b[39m][\u001b[38;5;241m0\u001b[39m] \u001b[38;5;241m=\u001b[39m \u001b[38;5;241m100\u001b[39m\n\u001b[1;32m      8\u001b[0m \u001b[38;5;28mprint\u001b[39m(\u001b[38;5;28mid\u001b[39m(a[\u001b[38;5;241m0\u001b[39m]))\n\u001b[1;32m      9\u001b[0m \u001b[38;5;28mprint\u001b[39m(\u001b[38;5;28mid\u001b[39m(b[\u001b[38;5;241m0\u001b[39m]))\n",
      "\u001b[0;31mTypeError\u001b[0m: 'int' object does not support item assignment"
     ]
    }
   ],
   "source": [
    "a = [[1,1],2,3]\n",
    "print(id(a))\n",
    "b = a.copy()\n",
    "print(id(b))\n",
    "print(id(a[0]))\n",
    "print(id(b[0]))\n",
    "a[0][0] = 100\n",
    "print(id(a[0]))\n",
    "print(id(b[0]))"
   ]
  },
  {
   "cell_type": "code",
   "execution_count": 206,
   "id": "a20df43d",
   "metadata": {},
   "outputs": [
    {
     "data": {
      "text/plain": [
       "[100, 2, 3]"
      ]
     },
     "execution_count": 206,
     "metadata": {},
     "output_type": "execute_result"
    }
   ],
   "source": [
    "a"
   ]
  },
  {
   "cell_type": "code",
   "execution_count": 207,
   "id": "17f5bf5a",
   "metadata": {},
   "outputs": [
    {
     "data": {
      "text/plain": [
       "[1, 2, 3]"
      ]
     },
     "execution_count": 207,
     "metadata": {},
     "output_type": "execute_result"
    }
   ],
   "source": [
    "b"
   ]
  },
  {
   "cell_type": "code",
   "execution_count": 222,
   "id": "7b126e09",
   "metadata": {},
   "outputs": [
    {
     "name": "stdout",
     "output_type": "stream",
     "text": [
      "2020-01-01,60070008,27,25\n",
      "\n"
     ]
    }
   ],
   "source": [
    "#read data from data/epa_air_quality.csv\n",
    "#per each line write the first 3 elements in \"output.txt\"\n",
    "filename = \"/Users/ernesto/Desktop/MSDS-501/msds501_computation_2025/Data/epa_air_quality.csv\"\n",
    "with open(filename) as f:\n",
    "    a = f.readline()\n",
    "    b = f.readline()\n",
    "    print(b)\n"
   ]
  },
  {
   "cell_type": "code",
   "execution_count": 225,
   "id": "1b5ae025",
   "metadata": {},
   "outputs": [],
   "source": [
    "filename = \"/Users/ernesto/Desktop/MSDS-501/msds501_computation_2025/Data/epa_air_quality.csv\"\n",
    "output = \"output.txt\"\n",
    "with open(filename,'r') as f:\n",
    "    input_lines = f.readlines()\n",
    "    filtered_lines = []\n",
    "    for line in input_lines:\n",
    "        splitted_line = line.split(\",\")\n",
    "        filtered_lines.append(splitted_line[:3])\n",
    "with open(output,\"w\") as f:\n",
    "    for line in filtered_lines: \n",
    "           \n",
    "        f.write(f\"{line[0]},{[line[1]]},{[line[2]]}\\n\")\n"
   ]
  },
  {
   "cell_type": "code",
   "execution_count": 9,
   "id": "9a8de99a",
   "metadata": {},
   "outputs": [
    {
     "name": "stdout",
     "output_type": "stream",
     "text": [
      "1\n"
     ]
    }
   ],
   "source": [
    "count = 0\n",
    "\n",
    "def f():\n",
    "    def g():\n",
    "        print(count)\n",
    "    count = 1\n",
    "    g()\n",
    "\n",
    "f()"
   ]
  }
 ],
 "metadata": {
  "kernelspec": {
   "display_name": "base",
   "language": "python",
   "name": "python3"
  },
  "language_info": {
   "codemirror_mode": {
    "name": "ipython",
    "version": 3
   },
   "file_extension": ".py",
   "mimetype": "text/x-python",
   "name": "python",
   "nbconvert_exporter": "python",
   "pygments_lexer": "ipython3",
   "version": "3.13.5"
  }
 },
 "nbformat": 4,
 "nbformat_minor": 5
}
